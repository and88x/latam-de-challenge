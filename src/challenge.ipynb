{
 "cells": [
  {
   "cell_type": "markdown",
   "metadata": {},
   "source": [
    "# Data Engineer Challenge"
   ]
  },
  {
   "cell_type": "markdown",
   "metadata": {},
   "source": [
    "### Instalación de liberías necesarias"
   ]
  },
  {
   "cell_type": "code",
   "execution_count": 52,
   "metadata": {
    "scrolled": true
   },
   "outputs": [],
   "source": [
    "!pip install memory-profiler\n",
    "!pip install line_profiler\n",
    "!pip install emoji\n",
    "!pip install pandas\n",
    "!pip install pytest"
   ]
  },
  {
   "cell_type": "markdown",
   "metadata": {},
   "source": [
    "### Importación y setup"
   ]
  },
  {
   "cell_type": "code",
   "execution_count": 53,
   "metadata": {},
   "outputs": [],
   "source": [
    "%load_ext memory_profiler\n",
    "%load_ext line_profiler\n",
    "%load_ext autoreload\n",
    "%autoreload 2"
   ]
  },
  {
   "cell_type": "code",
   "execution_count": 5,
   "metadata": {},
   "outputs": [],
   "source": [
    "from q1_memory import q1_memory\n",
    "from q2_memory import q2_memory\n",
    "from q3_memory import q3_memory\n",
    "from q1_time import q1_time\n",
    "from q2_time import q2_time\n",
    "from q3_time import q3_time\n",
    "from pandas import DataFrame as visualizador\n",
    "from etils import ecolab"
   ]
  },
  {
   "cell_type": "markdown",
   "metadata": {},
   "source": [
    "### Definición de constantes"
   ]
  },
  {
   "cell_type": "code",
   "execution_count": 6,
   "metadata": {},
   "outputs": [],
   "source": [
    "FILE_PATH = \"../data/farmers-protest-tweets-2021-2-4.json\""
   ]
  },
  {
   "cell_type": "markdown",
   "metadata": {},
   "source": [
    "### ✅ Supuestos realizados\n",
    "\n",
    "- Se asumió que el campo de fecha está en `\"date\"` en formato ISO 8601.\n",
    "- El nombre de usuario se encuentra en `\"user.username\"`.\n",
    "- Registros con campos faltantes fueron ignorados.\n",
    "---"
   ]
  },
  {
   "cell_type": "markdown",
   "metadata": {},
   "source": [
    "# Pregunta 1 - Tweets por Fecha y Usuario más Activo\n",
    "> **Objetivo:** Obtener las 10 fechas con más tweets y, para cada una de esas fechas, el usuario más activo (con más publicaciones)."
   ]
  },
  {
   "cell_type": "markdown",
   "metadata": {},
   "source": [
    "## Enfoque de memoria optimizada\n",
    "\n",
    "Para minimizar el uso de memoria, implementa las siguientes estrategias:\n",
    "\n",
    "- Procesa el archivo en modo **streaming** (línea por línea), evitando cargar todo el contenido en memoria.\n",
    "- Utiliza un **heap limitado** (`min-heap`) para mantener únicamente las **10 fechas con más tweets**, descartando automáticamente las menos relevantes.\n",
    "- Evita almacenar conteos de todas las fechas posibles, lo que reduce significativamente el uso de memoria frente a otras alternativas.\n",
    "- Solo conserva información de conteo de usuarios por fecha, necesaria para determinar el usuario más activo en cada una de las 10 fechas seleccionadas.\n",
    "- Ignora registros incompletos (sin fecha o sin username).\n",
    "- Convierte las fechas a tipo `datetime.date` solo al final, una vez determinadas las fechas relevantes.\n"
   ]
  },
  {
   "cell_type": "markdown",
   "metadata": {},
   "source": [
    "#### Prueba de memoria"
   ]
  },
  {
   "cell_type": "code",
   "execution_count": 7,
   "metadata": {},
   "outputs": [
    {
     "name": "stdout",
     "output_type": "stream",
     "text": [
      "peak memory: 111.40 MiB, increment: 6.46 MiB\n"
     ]
    }
   ],
   "source": [
    "%memit q1_memory(FILE_PATH)"
   ]
  },
  {
   "cell_type": "markdown",
   "metadata": {},
   "source": [
    "#### Análisis de memoria"
   ]
  },
  {
   "cell_type": "code",
   "execution_count": 49,
   "metadata": {
    "scrolled": true
   },
   "outputs": [
    {
     "data": {
      "application/vnd.jupyter.widget-view+json": {
       "model_id": "1d3dc9e110b745be9ad7d8ccd7684ce4",
       "version_major": 2,
       "version_minor": 0
      },
      "text/plain": [
       "Accordion(children=(Output(),), titles=('',))"
      ]
     },
     "metadata": {},
     "output_type": "display_data"
    },
    {
     "name": "stdout",
     "output_type": "stream",
     "text": [
      "\n"
     ]
    },
    {
     "data": {
      "text/plain": [
       "Filename: C:\\Users\\and88\\OneDrive\\Documents\\Python\\latam_challenge_DE\\src\\q1_memory.py\n",
       "\n",
       "Line #    Mem usage    Increment  Occurrences   Line Contents\n",
       "=============================================================\n",
       "     9    497.0 MiB    497.0 MiB           1   def q1_memory(file_path: str) -> List[Tuple[datetime.date, str]]:\n",
       "    10                                             \"\"\"\n",
       "    11                                             Procesa un archivo de tweets en formato JSON línea por línea, devolviendo las 10 fechas con más\n",
       "    12                                             tweets, junto con el nombre de usuario (username) más activo para cada una de esas fechas.\n",
       "    13                                         \n",
       "    14                                             Este método está optimizado para un bajo uso de memoria, utilizando un min-heap para mantener\n",
       "    15                                             únicamente las 10 fechas con mayor cantidad de tweets, en lugar de guardar todos los conteos.\n",
       "    16                                             Esto permite reducir significativamente el consumo de memoria en comparación con estrategias\n",
       "    17                                             tradicionales que almacenan el conteo completo de fechas en estructuras grandes.\n",
       "    18                                         \n",
       "    19                                             Args:\n",
       "    20                                                 file_path (str): Ruta al archivo de tweets en formato JSON (una línea por cada tweet).\n",
       "    21                                         \n",
       "    22                                             Returns:\n",
       "    23                                                 List[Tuple[datetime.date, str]]:\n",
       "    24                                                     Una lista ordenada (descendente) con las 10 fechas con más tweets.\n",
       "    25                                                     Cada elemento es una tupla que contiene:\n",
       "    26                                                         - datetime.date: La fecha específica.\n",
       "    27                                                         - str: Nombre de usuario con más tweets ese día.\n",
       "    28                                         \n",
       "    29                                                     Ejemplo:\n",
       "    30                                                     [\n",
       "    31                                                         (datetime.date(2021, 2, 24), \"LATAM321\"),\n",
       "    32                                                         (datetime.date(2021, 2, 23), \"otroUsuario\"),\n",
       "    33                                                         ...\n",
       "    34                                                     ]\n",
       "    35                                         \n",
       "    36                                             Notas y supuestos:\n",
       "    37                                                 - Se asume que cada línea del archivo es un JSON válido.\n",
       "    38                                                 - La fecha debe estar en el campo \"date\" con formato ISO 8601 (ej: \"2021-02-24T09:23:35+00:00\").\n",
       "    39                                                 - El username se encuentra en el campo \"user.username\".\n",
       "    40                                                 - Tweets sin fecha o usuario válido se ignoran.\n",
       "    41                                                 - El heap mantiene como máximo 10 fechas, descartando automáticamente las menos frecuentes.\n",
       "    42                                             \"\"\"\n",
       "    43                                         \n",
       "    44    497.0 MiB      0.0 MiB           1       tweets_por_fecha = defaultdict(int)\n",
       "    45    497.0 MiB      0.0 MiB          27       tweets_usuario_fecha = defaultdict(lambda: defaultdict(int))\n",
       "    46                                         \n",
       "    47    497.1 MiB      0.0 MiB           2       with open(file_path, \"r\", encoding=\"utf-8\") as file:\n",
       "    48    497.1 MiB      0.0 MiB      117408           for linea in file:\n",
       "    49    497.1 MiB      0.0 MiB      117407               try:\n",
       "    50    497.1 MiB      0.1 MiB      117407                   tweet = cargar_json(linea)\n",
       "    51                                         \n",
       "    52                                                         # Extraer usuario y fecha (\"YYYY-MM-DD\", 10 dígitos)\n",
       "    53    497.1 MiB      0.0 MiB      117407                   fecha = tweet.get(\"date\", \"\")[:10]\n",
       "    54    497.1 MiB      0.0 MiB      117407                   usuario = tweet.get(\"user\", {}).get(\"username\", None)\n",
       "    55                                         \n",
       "    56                                                         # Se ignoran los registros incompletos\n",
       "    57    497.1 MiB      0.0 MiB      117407                   if not fecha or not usuario:\n",
       "    58                                                             continue\n",
       "    59                                         \n",
       "    60                                                         # Actualizar contadores\n",
       "    61    497.1 MiB      0.0 MiB      117407                   tweets_por_fecha[fecha] += 1\n",
       "    62    497.1 MiB      0.0 MiB      117407                   tweets_usuario_fecha[fecha][usuario] += 1\n",
       "    63                                         \n",
       "    64                                                     except JSONDecodeError:\n",
       "    65                                                         continue\n",
       "    66                                         \n",
       "    67                                             # Usar heap para mantener solo las 10 fechas con más tweets\n",
       "    68    497.1 MiB      0.0 MiB           1       heap = []\n",
       "    69    497.1 MiB      0.0 MiB          14       for fecha, count in tweets_por_fecha.items():\n",
       "    70    497.1 MiB      0.0 MiB          13           heapq.heappush(heap, (count, fecha))\n",
       "    71    497.1 MiB      0.0 MiB          13           if len(heap) > 10:\n",
       "    72    497.1 MiB      0.0 MiB           3               heapq.heappop(heap)  # elimina la fecha con menos tweets\n",
       "    73                                         \n",
       "    74                                             # Ordenar fechas de más a menos tweets\n",
       "    75    497.1 MiB      0.0 MiB           1       top_fechas = sorted(heap, reverse=True)\n",
       "    76                                         \n",
       "    77                                             # Usuario más activo de cada fecha\n",
       "    78    497.1 MiB      0.0 MiB           1       resultado = []\n",
       "    79    497.1 MiB      0.0 MiB          11       for _, fecha in top_fechas:\n",
       "    80    497.1 MiB      0.0 MiB          10           usuarios = tweets_usuario_fecha[fecha]\n",
       "    81    497.1 MiB      0.0 MiB       88328           usuario_mas_activo = max(usuarios.items(), key=lambda x: x[1])[0]\n",
       "    82    497.1 MiB      0.0 MiB          10           fecha = datetime.datetime.strptime(fecha, \"%Y-%m-%d\").date()\n",
       "    83    497.1 MiB      0.0 MiB          10           resultado.append((fecha, usuario_mas_activo))\n",
       "    84                                         \n",
       "    85    497.1 MiB      0.0 MiB           1       return resultado"
      ]
     },
     "metadata": {},
     "output_type": "display_data"
    }
   ],
   "source": [
    "%mprun -f q1_memory q1_memory(FILE_PATH)"
   ]
  },
  {
   "cell_type": "markdown",
   "metadata": {},
   "source": [
    "#### Prueba de tiempo"
   ]
  },
  {
   "cell_type": "code",
   "execution_count": 8,
   "metadata": {},
   "outputs": [
    {
     "name": "stdout",
     "output_type": "stream",
     "text": [
      "3.5 s ± 243 ms per loop (mean ± std. dev. of 3 runs, 10 loops each)\n"
     ]
    }
   ],
   "source": [
    "%timeit -n 10 -r 3 q1_memory(FILE_PATH)"
   ]
  },
  {
   "cell_type": "markdown",
   "metadata": {},
   "source": [
    "#### Resultado"
   ]
  },
  {
   "cell_type": "code",
   "execution_count": 9,
   "metadata": {},
   "outputs": [
    {
     "data": {
      "text/html": [
       "<div>\n",
       "<style scoped>\n",
       "    .dataframe tbody tr th:only-of-type {\n",
       "        vertical-align: middle;\n",
       "    }\n",
       "\n",
       "    .dataframe tbody tr th {\n",
       "        vertical-align: top;\n",
       "    }\n",
       "\n",
       "    .dataframe thead th {\n",
       "        text-align: right;\n",
       "    }\n",
       "</style>\n",
       "<table border=\"1\" class=\"dataframe\">\n",
       "  <thead>\n",
       "    <tr style=\"text-align: right;\">\n",
       "      <th></th>\n",
       "      <th>Fecha</th>\n",
       "      <th>Usuarios</th>\n",
       "    </tr>\n",
       "  </thead>\n",
       "  <tbody>\n",
       "    <tr>\n",
       "      <th>0</th>\n",
       "      <td>2021-02-12</td>\n",
       "      <td>RanbirS00614606</td>\n",
       "    </tr>\n",
       "    <tr>\n",
       "      <th>1</th>\n",
       "      <td>2021-02-13</td>\n",
       "      <td>MaanDee08215437</td>\n",
       "    </tr>\n",
       "    <tr>\n",
       "      <th>2</th>\n",
       "      <td>2021-02-17</td>\n",
       "      <td>RaaJVinderkaur</td>\n",
       "    </tr>\n",
       "    <tr>\n",
       "      <th>3</th>\n",
       "      <td>2021-02-16</td>\n",
       "      <td>jot__b</td>\n",
       "    </tr>\n",
       "    <tr>\n",
       "      <th>4</th>\n",
       "      <td>2021-02-14</td>\n",
       "      <td>rebelpacifist</td>\n",
       "    </tr>\n",
       "    <tr>\n",
       "      <th>5</th>\n",
       "      <td>2021-02-18</td>\n",
       "      <td>neetuanjle_nitu</td>\n",
       "    </tr>\n",
       "    <tr>\n",
       "      <th>6</th>\n",
       "      <td>2021-02-15</td>\n",
       "      <td>jot__b</td>\n",
       "    </tr>\n",
       "    <tr>\n",
       "      <th>7</th>\n",
       "      <td>2021-02-20</td>\n",
       "      <td>MangalJ23056160</td>\n",
       "    </tr>\n",
       "    <tr>\n",
       "      <th>8</th>\n",
       "      <td>2021-02-23</td>\n",
       "      <td>Surrypuria</td>\n",
       "    </tr>\n",
       "    <tr>\n",
       "      <th>9</th>\n",
       "      <td>2021-02-19</td>\n",
       "      <td>Preetm91</td>\n",
       "    </tr>\n",
       "  </tbody>\n",
       "</table>\n",
       "</div>"
      ],
      "text/plain": [
       "        Fecha         Usuarios\n",
       "0  2021-02-12  RanbirS00614606\n",
       "1  2021-02-13  MaanDee08215437\n",
       "2  2021-02-17   RaaJVinderkaur\n",
       "3  2021-02-16           jot__b\n",
       "4  2021-02-14    rebelpacifist\n",
       "5  2021-02-18  neetuanjle_nitu\n",
       "6  2021-02-15           jot__b\n",
       "7  2021-02-20  MangalJ23056160\n",
       "8  2021-02-23       Surrypuria\n",
       "9  2021-02-19         Preetm91"
      ]
     },
     "execution_count": 9,
     "metadata": {},
     "output_type": "execute_result"
    }
   ],
   "source": [
    "fecha_y_usuarios = q1_memory(FILE_PATH)\n",
    "visualizador(fecha_y_usuarios, columns=[\"Fecha\", \"Usuarios\"])"
   ]
  },
  {
   "cell_type": "markdown",
   "metadata": {},
   "source": [
    "## Enfoque de tiempo optimizado\n",
    "\n",
    "Para minimizar el tiempo de ejecución, esta versión de la función implementa las siguientes estrategias:\n",
    "\n",
    "- Carga **todo el archivo** de tweets completamente en memoria, reduciendo el tiempo asociado a operaciones de lectura desde disco (I/O).\n",
    "- Emplea estructuras eficientes (`Counter` y `defaultdict`) para realizar conteos y agrupaciones rápidamente en memoria.\n",
    "- Evita validaciones o transformaciones costosas dentro del loop principal, procesando los datos de forma directa.\n",
    "- Realiza las conversiones de strings a `datetime.date` **solamente al final**, una vez que ya se han identificado las 10 fechas con más tweets.\n",
    "- Ignora registros incompletos (sin fecha o sin username) para evitar errores o procesamiento innecesario.\n"
   ]
  },
  {
   "cell_type": "markdown",
   "metadata": {},
   "source": [
    "#### Prueba de memoria"
   ]
  },
  {
   "cell_type": "code",
   "execution_count": 10,
   "metadata": {},
   "outputs": [
    {
     "name": "stdout",
     "output_type": "stream",
     "text": [
      "peak memory: 522.71 MiB, increment: 412.46 MiB\n"
     ]
    }
   ],
   "source": [
    "%memit q1_time(FILE_PATH)"
   ]
  },
  {
   "cell_type": "markdown",
   "metadata": {},
   "source": [
    "#### Prueba de tiempo"
   ]
  },
  {
   "cell_type": "code",
   "execution_count": 25,
   "metadata": {},
   "outputs": [
    {
     "name": "stdout",
     "output_type": "stream",
     "text": [
      "3.15 s ± 20.4 ms per loop (mean ± std. dev. of 3 runs, 10 loops each)\n"
     ]
    }
   ],
   "source": [
    "%timeit -n 10 -r 3 q1_time(FILE_PATH)"
   ]
  },
  {
   "cell_type": "markdown",
   "metadata": {},
   "source": [
    "#### Análisis de tiempo"
   ]
  },
  {
   "cell_type": "code",
   "execution_count": 48,
   "metadata": {
    "scrolled": true
   },
   "outputs": [
    {
     "data": {
      "application/vnd.jupyter.widget-view+json": {
       "model_id": "8a3087bbe31e4467988bc855d63ec2ce",
       "version_major": 2,
       "version_minor": 0
      },
      "text/plain": [
       "Accordion(children=(Output(),), titles=('',))"
      ]
     },
     "metadata": {},
     "output_type": "display_data"
    },
    {
     "data": {
      "text/plain": [
       "Timer unit: 1e-07 s\n",
       "\n",
       "Total time: 3.91502 s\n",
       "File: C:\\Users\\and88\\OneDrive\\Documents\\Python\\latam_challenge_DE\\src\\q1_time.py\n",
       "Function: q1_time at line 8\n",
       "\n",
       "Line #      Hits         Time  Per Hit   % Time  Line Contents\n",
       "==============================================================\n",
       "     8                                           def q1_time(file_path: str) -> List[Tuple[datetime.date, str]]:\n",
       "     9                                               \"\"\"\n",
       "    10                                               Procesa un archivo de tweets en formato JSON cargándolo completamente en memoria, devolviendo las\n",
       "    11                                               10 fechas con más tweets, junto con el nombre de usuario (username) más activo para cada una de esas\n",
       "    12                                               fechas.\n",
       "    13                                           \n",
       "    14                                               Este método está optimizado para minimizar el tiempo de ejecución, cargando el archivo completo en\n",
       "    15                                               memoria para reducir operaciones de I/O. Las estructuras utilizadas (`Counter` y `defaultdict`)\n",
       "    16                                               permiten realizar conteos y agrupaciones de manera eficiente directamente en memoria.\n",
       "    17                                           \n",
       "    18                                               Args:\n",
       "    19                                                   file_path (str): Ruta al archivo de tweets en formato JSON (una línea por cada tweet, codificado\n",
       "    20                                                   en UTF-8).\n",
       "    21                                           \n",
       "    22                                               Returns:\n",
       "    23                                                   List[Tuple[datetime.date, str]]:\n",
       "    24                                                       Una lista ordenada (descendente) con las 10 fechas con más tweets.\n",
       "    25                                                       Cada elemento es una tupla que contiene:\n",
       "    26                                                           - datetime.date: La fecha específica.\n",
       "    27                                                           - str: Nombre de usuario con más tweets ese día.\n",
       "    28                                           \n",
       "    29                                                       Ejemplo:\n",
       "    30                                                       [\n",
       "    31                                                           (datetime.date(2021, 2, 24), \"LATAM321\"),\n",
       "    32                                                           (datetime.date(2021, 2, 23), \"otroUsuario\"),\n",
       "    33                                                           ...\n",
       "    34                                                       ]\n",
       "    35                                           \n",
       "    36                                               Notas y supuestos:\n",
       "    37                                                   - El archivo debe estar codificado como UTF-8 y cada línea debe contener un JSON válido.\n",
       "    38                                                   - El campo \"date\" debe tener formato ISO 8601 (ej: \"2021-02-24T09:23:35+00:00\").\n",
       "    39                                                   - El nombre de usuario se encuentra en el campo \"user.username\".\n",
       "    40                                                   - Tweets sin fecha o sin username válido son ignorados.\n",
       "    41                                               \"\"\"\n",
       "    42                                           \n",
       "    43         1         88.0     88.0      0.0      tweets_por_fecha = Counter()\n",
       "    44         1          9.0      9.0      0.0      tweets_usuario_fecha = defaultdict(Counter)\n",
       "    45                                           \n",
       "    46                                               # Leer todo el archivo a memoria para reducir I/O\n",
       "    47         2       1250.0    625.0      0.0      with open(file_path, \"rb\") as file:\n",
       "    48         1    3032419.0    3e+06      7.7          lineas = file.readlines()\n",
       "    49                                           \n",
       "    50    117408     356269.0      3.0      0.9      for linea in lineas:\n",
       "    51    117407     216901.0      1.8      0.6          try:\n",
       "    52    117407   32235193.0    274.6     82.3              tweet = cargar_json(linea)\n",
       "    53                                           \n",
       "    54                                                       # Extraer usuario y fecha (\"YYYY-MM-DD\", 10 dígitos)\n",
       "    55    117407     678401.0      5.8      1.7              fecha = tweet.get(\"date\", \"\")[:10]\n",
       "    56    117407     562799.0      4.8      1.4              usuario = tweet.get(\"user\", {}).get(\"username\")\n",
       "    57                                           \n",
       "    58                                                       # Se ignoran los registros incompletos\n",
       "    59    117407     293287.0      2.5      0.7              if not fecha or not usuario:\n",
       "    60                                                           continue\n",
       "    61                                           \n",
       "    62                                                       # Actualizar contadores\n",
       "    63    117407     687613.0      5.9      1.8              tweets_por_fecha[fecha] += 1\n",
       "    64    117407    1047558.0      8.9      2.7              tweets_usuario_fecha[fecha][usuario] += 1\n",
       "    65                                           \n",
       "    66                                                   except JSONDecodeError:\n",
       "    67                                                       continue\n",
       "    68                                           \n",
       "    69                                               # Obtener top 10 fechas en orden descendente\n",
       "    70         1        392.0    392.0      0.0      top_fechas = tweets_por_fecha.most_common(10)\n",
       "    71                                           \n",
       "    72                                               # Usuario más activo de cada fecha\n",
       "    73         1          2.0      2.0      0.0      resultado = []\n",
       "    74        11         38.0      3.5      0.0      for fecha, _ in top_fechas:\n",
       "    75        10      34593.0   3459.3      0.1          usuario_top = tweets_usuario_fecha[fecha].most_common(1)[0][0]\n",
       "    76        10       3293.0    329.3      0.0          fecha = datetime.datetime.strptime(fecha, \"%Y-%m-%d\").date()\n",
       "    77        10         48.0      4.8      0.0          resultado.append((fecha, usuario_top))\n",
       "    78                                           \n",
       "    79         1          2.0      2.0      0.0      return resultado"
      ]
     },
     "metadata": {},
     "output_type": "display_data"
    }
   ],
   "source": [
    "%lprun -f q1_time q1_time(FILE_PATH)"
   ]
  },
  {
   "cell_type": "markdown",
   "metadata": {},
   "source": [
    "#### Resultado"
   ]
  },
  {
   "cell_type": "code",
   "execution_count": 12,
   "metadata": {},
   "outputs": [
    {
     "data": {
      "text/html": [
       "<div>\n",
       "<style scoped>\n",
       "    .dataframe tbody tr th:only-of-type {\n",
       "        vertical-align: middle;\n",
       "    }\n",
       "\n",
       "    .dataframe tbody tr th {\n",
       "        vertical-align: top;\n",
       "    }\n",
       "\n",
       "    .dataframe thead th {\n",
       "        text-align: right;\n",
       "    }\n",
       "</style>\n",
       "<table border=\"1\" class=\"dataframe\">\n",
       "  <thead>\n",
       "    <tr style=\"text-align: right;\">\n",
       "      <th></th>\n",
       "      <th>Fecha</th>\n",
       "      <th>Usuarios</th>\n",
       "    </tr>\n",
       "  </thead>\n",
       "  <tbody>\n",
       "    <tr>\n",
       "      <th>0</th>\n",
       "      <td>2021-02-12</td>\n",
       "      <td>RanbirS00614606</td>\n",
       "    </tr>\n",
       "    <tr>\n",
       "      <th>1</th>\n",
       "      <td>2021-02-13</td>\n",
       "      <td>MaanDee08215437</td>\n",
       "    </tr>\n",
       "    <tr>\n",
       "      <th>2</th>\n",
       "      <td>2021-02-17</td>\n",
       "      <td>RaaJVinderkaur</td>\n",
       "    </tr>\n",
       "    <tr>\n",
       "      <th>3</th>\n",
       "      <td>2021-02-16</td>\n",
       "      <td>jot__b</td>\n",
       "    </tr>\n",
       "    <tr>\n",
       "      <th>4</th>\n",
       "      <td>2021-02-14</td>\n",
       "      <td>rebelpacifist</td>\n",
       "    </tr>\n",
       "    <tr>\n",
       "      <th>5</th>\n",
       "      <td>2021-02-18</td>\n",
       "      <td>neetuanjle_nitu</td>\n",
       "    </tr>\n",
       "    <tr>\n",
       "      <th>6</th>\n",
       "      <td>2021-02-15</td>\n",
       "      <td>jot__b</td>\n",
       "    </tr>\n",
       "    <tr>\n",
       "      <th>7</th>\n",
       "      <td>2021-02-20</td>\n",
       "      <td>MangalJ23056160</td>\n",
       "    </tr>\n",
       "    <tr>\n",
       "      <th>8</th>\n",
       "      <td>2021-02-23</td>\n",
       "      <td>Surrypuria</td>\n",
       "    </tr>\n",
       "    <tr>\n",
       "      <th>9</th>\n",
       "      <td>2021-02-19</td>\n",
       "      <td>Preetm91</td>\n",
       "    </tr>\n",
       "  </tbody>\n",
       "</table>\n",
       "</div>"
      ],
      "text/plain": [
       "        Fecha         Usuarios\n",
       "0  2021-02-12  RanbirS00614606\n",
       "1  2021-02-13  MaanDee08215437\n",
       "2  2021-02-17   RaaJVinderkaur\n",
       "3  2021-02-16           jot__b\n",
       "4  2021-02-14    rebelpacifist\n",
       "5  2021-02-18  neetuanjle_nitu\n",
       "6  2021-02-15           jot__b\n",
       "7  2021-02-20  MangalJ23056160\n",
       "8  2021-02-23       Surrypuria\n",
       "9  2021-02-19         Preetm91"
      ]
     },
     "execution_count": 12,
     "metadata": {},
     "output_type": "execute_result"
    }
   ],
   "source": [
    "fecha_y_usuarios = q1_time(FILE_PATH)\n",
    "visualizador(fecha_y_usuarios, columns=[\"Fecha\", \"Usuarios\"])"
   ]
  },
  {
   "cell_type": "markdown",
   "metadata": {},
   "source": [
    "---\n",
    "# Pregunta 2 - Los top 10 emojis más usados\n",
    "> **Objetivo:** Obtener los 10 emojis más usados con su respectivo conteo"
   ]
  },
  {
   "cell_type": "markdown",
   "metadata": {},
   "source": [
    "## Enfoque de memoria optimizada\n",
    "\n",
    "Para minimizar el uso de memoria, esta versión de la función implementa las siguientes estrategias:\n",
    "\n",
    "- Procesa el archivo de tweets en modo **streaming** (línea por línea), evitando cargar el archivo completo en memoria.\n",
    "- Analiza únicamente el campo de texto (`content`) de cada tweet, sin almacenar los textos ni listas completas.\n",
    "- Utiliza estructuras simples y eficientes (diccionario plano) para contar ocurrencias de emojis.\n",
    "- Recorre el texto carácter por carácter para identificar emojis de forma directa, sin operaciones costosas adicionales.\n",
    "- Solo mantiene en memoria el diccionario de conteo acumulado de emojis, que tiende a ser pequeño.\n",
    "- Ordena y extrae los 10 emojis más frecuentes una vez finalizado el procesamiento completo."
   ]
  },
  {
   "cell_type": "markdown",
   "metadata": {},
   "source": [
    "#### Prueba de memoria"
   ]
  },
  {
   "cell_type": "code",
   "execution_count": 34,
   "metadata": {},
   "outputs": [
    {
     "name": "stdout",
     "output_type": "stream",
     "text": [
      "peak memory: 483.79 MiB, increment: 0.00 MiB\n"
     ]
    }
   ],
   "source": [
    "%memit q2_memory(FILE_PATH)"
   ]
  },
  {
   "cell_type": "markdown",
   "metadata": {},
   "source": [
    "#### Análisis de memoria"
   ]
  },
  {
   "cell_type": "code",
   "execution_count": 45,
   "metadata": {
    "scrolled": true
   },
   "outputs": [
    {
     "data": {
      "application/vnd.jupyter.widget-view+json": {
       "model_id": "10d576ad85ad4d738dab2bfe989a8954",
       "version_major": 2,
       "version_minor": 0
      },
      "text/plain": [
       "Accordion(children=(Output(),), titles=('',))"
      ]
     },
     "metadata": {},
     "output_type": "display_data"
    },
    {
     "name": "stdout",
     "output_type": "stream",
     "text": [
      "\n"
     ]
    },
    {
     "data": {
      "text/plain": [
       "Filename: C:\\Users\\and88\\OneDrive\\Documents\\Python\\latam_challenge_DE\\src\\q2_memory.py\n",
       "\n",
       "Line #    Mem usage    Increment  Occurrences   Line Contents\n",
       "=============================================================\n",
       "     7    491.2 MiB    491.2 MiB           1   def q2_memory(file_path: str) -> List[Tuple[str, int]]:\n",
       "     8                                             \"\"\"\n",
       "     9                                             Procesa un archivo de tweets en formato JSON línea por línea, devolviendo los 10 emojis más utilizados\n",
       "    10                                             junto con su cantidad de ocurrencias.\n",
       "    11                                         \n",
       "    12                                             Este método está optimizado para un bajo uso de memoria, ya que no carga todo el archivo en\n",
       "    13                                             memoria, sino que procesa cada tweet individualmente y realiza conteo_de_emojiss incrementales de emojis\n",
       "    14                                             directamente sobre el texto, sin almacenar datos intermedios.\n",
       "    15                                         \n",
       "    16                                             Args:\n",
       "    17                                                 file_path (str): Ruta al archivo de tweets en formato JSON (una línea por cada tweet).\n",
       "    18                                         \n",
       "    19                                             Returns:\n",
       "    20                                                 List[Tuple[str, int]]:\n",
       "    21                                                     Una lista ordenada (descendente) con los 10 emojis más frecuentes y su cantidad de apariciones.\n",
       "    22                                                     Cada elemento es una tupla que contiene:\n",
       "    23                                                         - str: Emoji.\n",
       "    24                                                         - int: Número total de veces que el emoji aparece en los tweets.\n",
       "    25                                         \n",
       "    26                                                     Ejemplo:\n",
       "    27                                                     [\n",
       "    28                                                         (\"✈️\", 6856),\n",
       "    29                                                         (\"❤️\", 5876),\n",
       "    30                                                         ...\n",
       "    31                                                     ]\n",
       "    32                                         \n",
       "    33                                             Notas y supuestos:\n",
       "    34                                                 - Se asume que cada línea del archivo es un JSON válido.\n",
       "    35                                                 - El texto a procesar se encuentra en el campo \"content\" de cada tweet.\n",
       "    36                                                 - Los emojis son identificados carácter por carácter utilizando la función emoji.is_emoji().\n",
       "    37                                                 - Tweets sin campo \"content\" o vacíos se ignoran.\n",
       "    38                                             \"\"\"\n",
       "    39                                         \n",
       "    40    491.2 MiB      0.0 MiB           1       conteo_de_emojis = {}\n",
       "    41                                         \n",
       "    42    491.2 MiB      0.0 MiB           2       with open(file_path, \"r\", encoding=\"utf-8\") as file:\n",
       "    43    491.2 MiB      0.1 MiB      117408           for linea in file:\n",
       "    44    491.2 MiB      0.0 MiB      117407               try:\n",
       "    45    491.2 MiB      0.0 MiB      117407                   tweet = cargar_json(linea)\n",
       "    46    491.2 MiB      0.0 MiB      117407                   contenido_del_tweet = tweet.get(\"content\", \"\")\n",
       "    47                                         \n",
       "    48    491.2 MiB      0.0 MiB    17151490                   for caracter in contenido_del_tweet:\n",
       "    49    491.2 MiB      0.0 MiB    17034083                       if is_emoji(caracter):\n",
       "    50    491.2 MiB      0.0 MiB       45636                           conteo_de_emojis[caracter] = (\n",
       "    51    491.2 MiB      0.0 MiB       45636                               conteo_de_emojis.get(caracter, 0) + 1\n",
       "    52                                                                 )\n",
       "    53                                         \n",
       "    54                                                     except JSONDecodeError:\n",
       "    55                                                         continue\n",
       "    56                                         \n",
       "    57                                             # Obtener el top 10 de emojis más usados\n",
       "    58    491.2 MiB      0.0 MiB        1283       top_10 = sorted(conteo_de_emojis.items(), key=lambda x: x[1], reverse=True)[:10]\n",
       "    59    491.2 MiB      0.0 MiB           1       return top_10"
      ]
     },
     "metadata": {},
     "output_type": "display_data"
    }
   ],
   "source": [
    "%mprun -f q2_memory q2_memory(FILE_PATH)"
   ]
  },
  {
   "cell_type": "markdown",
   "metadata": {},
   "source": [
    "#### Prueba de tiempo"
   ]
  },
  {
   "cell_type": "code",
   "execution_count": 14,
   "metadata": {},
   "outputs": [
    {
     "name": "stdout",
     "output_type": "stream",
     "text": [
      "5.61 s ± 61.5 ms per loop (mean ± std. dev. of 3 runs, 10 loops each)\n"
     ]
    }
   ],
   "source": [
    "%timeit -n 10 -r 3 q2_memory(FILE_PATH)"
   ]
  },
  {
   "cell_type": "markdown",
   "metadata": {},
   "source": [
    "#### Respuesta"
   ]
  },
  {
   "cell_type": "code",
   "execution_count": 15,
   "metadata": {},
   "outputs": [
    {
     "data": {
      "text/html": [
       "<div>\n",
       "<style scoped>\n",
       "    .dataframe tbody tr th:only-of-type {\n",
       "        vertical-align: middle;\n",
       "    }\n",
       "\n",
       "    .dataframe tbody tr th {\n",
       "        vertical-align: top;\n",
       "    }\n",
       "\n",
       "    .dataframe thead th {\n",
       "        text-align: right;\n",
       "    }\n",
       "</style>\n",
       "<table border=\"1\" class=\"dataframe\">\n",
       "  <thead>\n",
       "    <tr style=\"text-align: right;\">\n",
       "      <th></th>\n",
       "      <th>Emojis</th>\n",
       "      <th>Conteos</th>\n",
       "    </tr>\n",
       "  </thead>\n",
       "  <tbody>\n",
       "    <tr>\n",
       "      <th>0</th>\n",
       "      <td>🙏</td>\n",
       "      <td>7286</td>\n",
       "    </tr>\n",
       "    <tr>\n",
       "      <th>1</th>\n",
       "      <td>😂</td>\n",
       "      <td>3072</td>\n",
       "    </tr>\n",
       "    <tr>\n",
       "      <th>2</th>\n",
       "      <td>🚜</td>\n",
       "      <td>2972</td>\n",
       "    </tr>\n",
       "    <tr>\n",
       "      <th>3</th>\n",
       "      <td>✊</td>\n",
       "      <td>2411</td>\n",
       "    </tr>\n",
       "    <tr>\n",
       "      <th>4</th>\n",
       "      <td>🌾</td>\n",
       "      <td>2363</td>\n",
       "    </tr>\n",
       "    <tr>\n",
       "      <th>5</th>\n",
       "      <td>🏻</td>\n",
       "      <td>2080</td>\n",
       "    </tr>\n",
       "    <tr>\n",
       "      <th>6</th>\n",
       "      <td>❤</td>\n",
       "      <td>1779</td>\n",
       "    </tr>\n",
       "    <tr>\n",
       "      <th>7</th>\n",
       "      <td>🤣</td>\n",
       "      <td>1668</td>\n",
       "    </tr>\n",
       "    <tr>\n",
       "      <th>8</th>\n",
       "      <td>🏽</td>\n",
       "      <td>1218</td>\n",
       "    </tr>\n",
       "    <tr>\n",
       "      <th>9</th>\n",
       "      <td>👇</td>\n",
       "      <td>1108</td>\n",
       "    </tr>\n",
       "  </tbody>\n",
       "</table>\n",
       "</div>"
      ],
      "text/plain": [
       "  Emojis  Conteos\n",
       "0      🙏     7286\n",
       "1      😂     3072\n",
       "2      🚜     2972\n",
       "3      ✊     2411\n",
       "4      🌾     2363\n",
       "5      🏻     2080\n",
       "6      ❤     1779\n",
       "7      🤣     1668\n",
       "8      🏽     1218\n",
       "9      👇     1108"
      ]
     },
     "execution_count": 15,
     "metadata": {},
     "output_type": "execute_result"
    }
   ],
   "source": [
    "emojis_y_conteo = q2_memory(FILE_PATH)\n",
    "visualizador(emojis_y_conteo, columns=[\"Emojis\", \"Conteos\"])"
   ]
  },
  {
   "cell_type": "markdown",
   "metadata": {},
   "source": [
    "## Enfoque de tiempo optimizado\n",
    "\n",
    "Para minimizar el tiempo de ejecución, esta versión de la función implementa las siguientes estrategias:\n",
    "\n",
    "- Carga **todo el archivo** en memoria utilizando `readlines()`, lo que reduce el tiempo de acceso al disco (I/O).\n",
    "- Utiliza la estructura `set` construida a partir de `emoji.EMOJI_DATA.keys()` para identificar rápidamente si un carácter es un emoji, con operaciones de búsqueda en tiempo constante.\n",
    "- Emplea `Counter` de la librería estándar para acumular los conteos de emojis de forma eficiente y rápida.\n",
    "- Recorre el texto carácter por carácter, sin validaciones adicionales innecesarias dentro del bucle.\n",
    "- Ignora líneas con errores de decodificación y tweets sin campo `content` para evitar procesamiento extra.\n",
    "- Extrae los 10 emojis más frecuentes utilizando el método `most_common()` de `Counter`, que es altamente optimizado.\n"
   ]
  },
  {
   "cell_type": "markdown",
   "metadata": {},
   "source": [
    "#### Prueba de memoria"
   ]
  },
  {
   "cell_type": "code",
   "execution_count": 16,
   "metadata": {},
   "outputs": [
    {
     "name": "stdout",
     "output_type": "stream",
     "text": [
      "peak memory: 524.59 MiB, increment: 242.44 MiB\n"
     ]
    }
   ],
   "source": [
    "%memit q2_time(FILE_PATH)"
   ]
  },
  {
   "cell_type": "markdown",
   "metadata": {},
   "source": [
    "#### Prueba de tiempo"
   ]
  },
  {
   "cell_type": "code",
   "execution_count": 17,
   "metadata": {},
   "outputs": [
    {
     "name": "stdout",
     "output_type": "stream",
     "text": [
      "3.98 s ± 148 ms per loop (mean ± std. dev. of 3 runs, 10 loops each)\n"
     ]
    }
   ],
   "source": [
    "%timeit -n 10 -r 3 q2_time(FILE_PATH)"
   ]
  },
  {
   "cell_type": "markdown",
   "metadata": {},
   "source": [
    "#### Análisis de tiempo"
   ]
  },
  {
   "cell_type": "code",
   "execution_count": 44,
   "metadata": {
    "scrolled": true
   },
   "outputs": [
    {
     "data": {
      "application/vnd.jupyter.widget-view+json": {
       "model_id": "254476c2fcc84136aac117633b6c9bb3",
       "version_major": 2,
       "version_minor": 0
      },
      "text/plain": [
       "Accordion(children=(Output(),), titles=('',))"
      ]
     },
     "metadata": {},
     "output_type": "display_data"
    },
    {
     "data": {
      "text/plain": [
       "Timer unit: 1e-07 s\n",
       "\n",
       "Total time: 11.7965 s\n",
       "File: C:\\Users\\and88\\OneDrive\\Documents\\Python\\latam_challenge_DE\\src\\q2_time.py\n",
       "Function: q2_time at line 7\n",
       "\n",
       "Line #      Hits         Time  Per Hit   % Time  Line Contents\n",
       "==============================================================\n",
       "     7                                           def q2_time(file_path: str) -> List[Tuple[str, int]]:\n",
       "     8                                               \"\"\"\n",
       "     9                                               Procesa un archivo de tweets en formato JSON cargándolo completamente en memoria,\n",
       "    10                                               y devuelve los 10 emojis más utilizados junto con su cantidad de ocurrencias.\n",
       "    11                                           \n",
       "    12                                               Este método está optimizado para velocidad de ejecución, ya que evita la lectura\n",
       "    13                                               línea por línea (I/O secuencial) y utiliza estructuras eficientes como `set` para\n",
       "    14                                               búsquedas rápidas y `Counter` para acumulación directa.\n",
       "    15                                           \n",
       "    16                                               Args:\n",
       "    17                                                   file_path (str): Ruta al archivo de tweets en formato JSON (una línea por cada tweet).\n",
       "    18                                           \n",
       "    19                                               Returns:\n",
       "    20                                                   List[Tuple[str, int]]:\n",
       "    21                                                       Una lista ordenada (descendente) con los 10 emojis más frecuentes y su cantidad de apariciones.\n",
       "    22                                                       Cada elemento es una tupla que contiene:\n",
       "    23                                                           - str: Emoji.\n",
       "    24                                                           - int: Número total de veces que el emoji aparece en los tweets.\n",
       "    25                                           \n",
       "    26                                                       Ejemplo:\n",
       "    27                                                       [\n",
       "    28                                                           (\"✈️\", 6856),\n",
       "    29                                                           (\"❤️\", 5876),\n",
       "    30                                                           ...\n",
       "    31                                                       ]\n",
       "    32                                           \n",
       "    33                                               Notas y supuestos:\n",
       "    34                                                   - Se asume que cada línea del archivo es un JSON válido codificado en UTF-8.\n",
       "    35                                                   - El campo de texto a procesar se encuentra en \"content\".\n",
       "    36                                                   - La detección de emojis se realiza carácter por carácter, comparando con un conjunto (`set`)\n",
       "    37                                                     construido a partir de `emoji.EMOJI_DATA.keys()`, que contiene todos los emojis reconocidos.\n",
       "    38                                                   - Tweets sin campo \"content\" o vacíos se ignoran.\n",
       "    39                                               \"\"\"\n",
       "    40                                           \n",
       "    41         1       3368.0   3368.0      0.0      emoji_set = set(EMOJI_DATA.keys())\n",
       "    42         1         96.0     96.0      0.0      conteo_de_emojis = Counter()\n",
       "    43                                           \n",
       "    44         2       1976.0    988.0      0.0      with open(file_path, \"r\", encoding=\"utf-8\") as f:\n",
       "    45         1    8383245.0    8e+06      7.1          lineas = f.readlines()\n",
       "    46                                           \n",
       "    47    117408     648368.0      5.5      0.5      for linea in lineas:\n",
       "    48    117407     232378.0      2.0      0.2          try:\n",
       "    49    117407   30767690.0    262.1     26.1              tweet = cargar_json(linea)\n",
       "    50    117407     533230.0      4.5      0.5              contenido_del_tweet = tweet.get(\"content\", \"\")\n",
       "    51                                           \n",
       "    52  17151490   36540070.0      2.1     31.0              for caracter in contenido_del_tweet:\n",
       "    53  17034083   40455557.0      2.4     34.3                  if caracter in emoji_set:\n",
       "    54     45636     395403.0      8.7      0.3                      conteo_de_emojis[caracter] += 1\n",
       "    55                                           \n",
       "    56                                                   except JSONDecodeError:\n",
       "    57                                                       continue\n",
       "    58                                           \n",
       "    59         1       3378.0   3378.0      0.0      return conteo_de_emojis.most_common(10)"
      ]
     },
     "metadata": {},
     "output_type": "display_data"
    }
   ],
   "source": [
    "%lprun -f q2_time q2_time(FILE_PATH)"
   ]
  },
  {
   "cell_type": "markdown",
   "metadata": {
    "scrolled": true
   },
   "source": [
    "#### Respuesta"
   ]
  },
  {
   "cell_type": "code",
   "execution_count": 18,
   "metadata": {},
   "outputs": [
    {
     "data": {
      "text/html": [
       "<div>\n",
       "<style scoped>\n",
       "    .dataframe tbody tr th:only-of-type {\n",
       "        vertical-align: middle;\n",
       "    }\n",
       "\n",
       "    .dataframe tbody tr th {\n",
       "        vertical-align: top;\n",
       "    }\n",
       "\n",
       "    .dataframe thead th {\n",
       "        text-align: right;\n",
       "    }\n",
       "</style>\n",
       "<table border=\"1\" class=\"dataframe\">\n",
       "  <thead>\n",
       "    <tr style=\"text-align: right;\">\n",
       "      <th></th>\n",
       "      <th>Emojis</th>\n",
       "      <th>Conteos</th>\n",
       "    </tr>\n",
       "  </thead>\n",
       "  <tbody>\n",
       "    <tr>\n",
       "      <th>0</th>\n",
       "      <td>🙏</td>\n",
       "      <td>7286</td>\n",
       "    </tr>\n",
       "    <tr>\n",
       "      <th>1</th>\n",
       "      <td>😂</td>\n",
       "      <td>3072</td>\n",
       "    </tr>\n",
       "    <tr>\n",
       "      <th>2</th>\n",
       "      <td>🚜</td>\n",
       "      <td>2972</td>\n",
       "    </tr>\n",
       "    <tr>\n",
       "      <th>3</th>\n",
       "      <td>✊</td>\n",
       "      <td>2411</td>\n",
       "    </tr>\n",
       "    <tr>\n",
       "      <th>4</th>\n",
       "      <td>🌾</td>\n",
       "      <td>2363</td>\n",
       "    </tr>\n",
       "    <tr>\n",
       "      <th>5</th>\n",
       "      <td>🏻</td>\n",
       "      <td>2080</td>\n",
       "    </tr>\n",
       "    <tr>\n",
       "      <th>6</th>\n",
       "      <td>❤</td>\n",
       "      <td>1779</td>\n",
       "    </tr>\n",
       "    <tr>\n",
       "      <th>7</th>\n",
       "      <td>🤣</td>\n",
       "      <td>1668</td>\n",
       "    </tr>\n",
       "    <tr>\n",
       "      <th>8</th>\n",
       "      <td>🏽</td>\n",
       "      <td>1218</td>\n",
       "    </tr>\n",
       "    <tr>\n",
       "      <th>9</th>\n",
       "      <td>👇</td>\n",
       "      <td>1108</td>\n",
       "    </tr>\n",
       "  </tbody>\n",
       "</table>\n",
       "</div>"
      ],
      "text/plain": [
       "  Emojis  Conteos\n",
       "0      🙏     7286\n",
       "1      😂     3072\n",
       "2      🚜     2972\n",
       "3      ✊     2411\n",
       "4      🌾     2363\n",
       "5      🏻     2080\n",
       "6      ❤     1779\n",
       "7      🤣     1668\n",
       "8      🏽     1218\n",
       "9      👇     1108"
      ]
     },
     "execution_count": 18,
     "metadata": {},
     "output_type": "execute_result"
    }
   ],
   "source": [
    "emojis_y_conteo = q2_time(FILE_PATH)\n",
    "visualizador(emojis_y_conteo, columns=[\"Emojis\", \"Conteos\"])"
   ]
  },
  {
   "cell_type": "markdown",
   "metadata": {},
   "source": [
    "---\n",
    "# Pregunta 3 - Los top 10 usuarios más influyentes\n",
    "> **Objetivo:** Obtener el top 10 histórico de usuarios (username) más influyentes en función del conteo de las menciones (@) que registra cada uno de ellos."
   ]
  },
  {
   "cell_type": "markdown",
   "metadata": {},
   "source": [
    "## Enfoque de memoria optimizada\n",
    "\n",
    "Para minimizar el uso de memoria, esta versión de la función implementa las siguientes estrategias:\n",
    "\n",
    "- Procesa el archivo **línea por línea** (modo streaming), evitando cargar todo el contenido en memoria.\n",
    "- Utiliza una función generadora que produce **uno por uno** los nombres de usuario mencionados en cada tweet.\n",
    "- Solo almacena en memoria los conteos acumulados por usuario utilizando la estructura `Counter`, que es eficiente para este tipo de operaciones.\n",
    "- Ignora los tweets mal formateados o sin campo `mentionedUsers`, evitando validaciones y estructuras adicionales.\n",
    "- Devuelve los 10 usuarios más mencionados ordenados por frecuencia, usando el método `most_common()` de `Counter`."
   ]
  },
  {
   "cell_type": "markdown",
   "metadata": {},
   "source": [
    "#### Prueba de memoria"
   ]
  },
  {
   "cell_type": "code",
   "execution_count": 26,
   "metadata": {},
   "outputs": [
    {
     "name": "stdout",
     "output_type": "stream",
     "text": [
      "peak memory: 460.41 MiB, increment: 0.13 MiB\n"
     ]
    }
   ],
   "source": [
    "%memit q3_memory(FILE_PATH)"
   ]
  },
  {
   "cell_type": "markdown",
   "metadata": {},
   "source": [
    "#### Análisis de memoria"
   ]
  },
  {
   "cell_type": "code",
   "execution_count": 46,
   "metadata": {
    "scrolled": true
   },
   "outputs": [
    {
     "data": {
      "application/vnd.jupyter.widget-view+json": {
       "model_id": "7e6f3d782e5d46eeae975dae328c9c8e",
       "version_major": 2,
       "version_minor": 0
      },
      "text/plain": [
       "Accordion(children=(Output(),), titles=('',))"
      ]
     },
     "metadata": {},
     "output_type": "display_data"
    },
    {
     "name": "stdout",
     "output_type": "stream",
     "text": [
      "\n"
     ]
    },
    {
     "data": {
      "text/plain": [
       "Filename: C:\\Users\\and88\\OneDrive\\Documents\\Python\\latam_challenge_DE\\src\\q3_memory.py\n",
       "\n",
       "Line #    Mem usage    Increment  Occurrences   Line Contents\n",
       "=============================================================\n",
       "     6    491.5 MiB    491.5 MiB           1   def q3_memory(file_path: str) -> List[Tuple[str, int]]:\n",
       "     7                                             \"\"\"\n",
       "     8                                             Procesa un archivo de tweets en formato JSON línea por línea, devolviendo los 10 usuarios\n",
       "     9                                             más influyentes, definidos como aquellos que más veces fueron mencionados (@username).\n",
       "    10                                         \n",
       "    11                                             Este método está optimizado para un bajo uso de memoria, ya que no carga el archivo completo\n",
       "    12                                             en memoria, sino que procesa cada tweet individualmente a través de un generador que produce\n",
       "    13                                             los usernames mencionados uno por uno. Luego utiliza un Counter para acumular las menciones.\n",
       "    14                                         \n",
       "    15                                             Args:\n",
       "    16                                                 file_path (str): Ruta al archivo de tweets en formato JSON (una línea por tweet).\n",
       "    17                                         \n",
       "    18                                             Returns:\n",
       "    19                                                 List[Tuple[str, int]]:\n",
       "    20                                                     Una lista ordenada (descendente) con los 10 usuarios más mencionados.\n",
       "    21                                                     Cada elemento es una tupla que contiene:\n",
       "    22                                                         - str: El username del usuario mencionado.\n",
       "    23                                                         - int: Cantidad total de veces que fue mencionado.\n",
       "    24                                         \n",
       "    25                                                     Ejemplo:\n",
       "    26                                                     [\n",
       "    27                                                         (\"LATAM321\", 387),\n",
       "    28                                                         (\"LATAM_CHI\", 129),\n",
       "    29                                                         ...\n",
       "    30                                                     ]\n",
       "    31                                         \n",
       "    32                                             Notas y supuestos:\n",
       "    33                                                 - Se asume que cada línea del archivo es un JSON válido con codificación UTF-8.\n",
       "    34                                                 - El campo 'mentionedUsers' puede ser nulo, omitido o una lista vacía.\n",
       "    35                                                 - Se ignoran los tweets mal formateados o sin menciones válidas.\n",
       "    36                                             \"\"\"\n",
       "    37                                         \n",
       "    38    491.5 MiB      0.0 MiB           2       def generador_menciones():\n",
       "    39                                                 \"\"\"\n",
       "    40                                                 Generador que produce los nombres de usuario mencionados (username)\n",
       "    41                                                 en el campo 'mentionedUsers' de cada tweet válido del archivo.\n",
       "    42                                                 \"\"\"\n",
       "    43    492.3 MiB      0.0 MiB           2           with open(file_path, \"r\", encoding=\"utf-8\") as file:\n",
       "    44    492.3 MiB      0.0 MiB      117408               for linea in file:\n",
       "    45    492.3 MiB      0.0 MiB      117407                   try:\n",
       "    46    492.3 MiB      0.8 MiB      117407                       tweet = cargar_json(linea)\n",
       "    47                                         \n",
       "    48    492.3 MiB      0.0 MiB      220810                       for usuarios_mencionados in tweet.get(\"mentionedUsers\") or []:\n",
       "    49    492.3 MiB      0.0 MiB      103403                           usuario = usuarios_mencionados.get(\"username\")\n",
       "    50    492.3 MiB      0.0 MiB      103403                           if usuario:\n",
       "    51    492.3 MiB      0.0 MiB      206806                               yield usuario\n",
       "    52                                         \n",
       "    53                                                         except JSONDecodeError:\n",
       "    54                                                             continue\n",
       "    55                                         \n",
       "    56    491.5 MiB      0.0 MiB           1       menciones = Counter()\n",
       "    57    492.3 MiB      0.0 MiB           1       menciones.update(generador_menciones())\n",
       "    58    492.3 MiB      0.0 MiB           1       return menciones.most_common(10)"
      ]
     },
     "metadata": {},
     "output_type": "display_data"
    }
   ],
   "source": [
    "%mprun -f q3_memory q3_memory(FILE_PATH)"
   ]
  },
  {
   "cell_type": "markdown",
   "metadata": {},
   "source": [
    "#### Prueba de tiempo "
   ]
  },
  {
   "cell_type": "code",
   "execution_count": 20,
   "metadata": {},
   "outputs": [
    {
     "name": "stdout",
     "output_type": "stream",
     "text": [
      "3.35 s ± 108 ms per loop (mean ± std. dev. of 3 runs, 10 loops each)\n"
     ]
    }
   ],
   "source": [
    "%timeit -n 10 -r 3 q3_memory(FILE_PATH)"
   ]
  },
  {
   "cell_type": "markdown",
   "metadata": {},
   "source": [
    "#### Respuesta"
   ]
  },
  {
   "cell_type": "code",
   "execution_count": 21,
   "metadata": {},
   "outputs": [
    {
     "data": {
      "text/html": [
       "<div>\n",
       "<style scoped>\n",
       "    .dataframe tbody tr th:only-of-type {\n",
       "        vertical-align: middle;\n",
       "    }\n",
       "\n",
       "    .dataframe tbody tr th {\n",
       "        vertical-align: top;\n",
       "    }\n",
       "\n",
       "    .dataframe thead th {\n",
       "        text-align: right;\n",
       "    }\n",
       "</style>\n",
       "<table border=\"1\" class=\"dataframe\">\n",
       "  <thead>\n",
       "    <tr style=\"text-align: right;\">\n",
       "      <th></th>\n",
       "      <th>Usuario</th>\n",
       "      <th>Menciones</th>\n",
       "    </tr>\n",
       "  </thead>\n",
       "  <tbody>\n",
       "    <tr>\n",
       "      <th>0</th>\n",
       "      <td>narendramodi</td>\n",
       "      <td>2265</td>\n",
       "    </tr>\n",
       "    <tr>\n",
       "      <th>1</th>\n",
       "      <td>Kisanektamorcha</td>\n",
       "      <td>1840</td>\n",
       "    </tr>\n",
       "    <tr>\n",
       "      <th>2</th>\n",
       "      <td>RakeshTikaitBKU</td>\n",
       "      <td>1644</td>\n",
       "    </tr>\n",
       "    <tr>\n",
       "      <th>3</th>\n",
       "      <td>PMOIndia</td>\n",
       "      <td>1427</td>\n",
       "    </tr>\n",
       "    <tr>\n",
       "      <th>4</th>\n",
       "      <td>RahulGandhi</td>\n",
       "      <td>1146</td>\n",
       "    </tr>\n",
       "    <tr>\n",
       "      <th>5</th>\n",
       "      <td>GretaThunberg</td>\n",
       "      <td>1048</td>\n",
       "    </tr>\n",
       "    <tr>\n",
       "      <th>6</th>\n",
       "      <td>RaviSinghKA</td>\n",
       "      <td>1019</td>\n",
       "    </tr>\n",
       "    <tr>\n",
       "      <th>7</th>\n",
       "      <td>rihanna</td>\n",
       "      <td>986</td>\n",
       "    </tr>\n",
       "    <tr>\n",
       "      <th>8</th>\n",
       "      <td>UNHumanRights</td>\n",
       "      <td>962</td>\n",
       "    </tr>\n",
       "    <tr>\n",
       "      <th>9</th>\n",
       "      <td>meenaharris</td>\n",
       "      <td>926</td>\n",
       "    </tr>\n",
       "  </tbody>\n",
       "</table>\n",
       "</div>"
      ],
      "text/plain": [
       "           Usuario  Menciones\n",
       "0     narendramodi       2265\n",
       "1  Kisanektamorcha       1840\n",
       "2  RakeshTikaitBKU       1644\n",
       "3         PMOIndia       1427\n",
       "4      RahulGandhi       1146\n",
       "5    GretaThunberg       1048\n",
       "6      RaviSinghKA       1019\n",
       "7          rihanna        986\n",
       "8    UNHumanRights        962\n",
       "9      meenaharris        926"
      ]
     },
     "execution_count": 21,
     "metadata": {},
     "output_type": "execute_result"
    }
   ],
   "source": [
    "usuarios_mas_influyentes = q3_memory(FILE_PATH)\n",
    "visualizador(usuarios_mas_influyentes, columns=[\"Usuario\", \"Menciones\"])"
   ]
  },
  {
   "cell_type": "markdown",
   "metadata": {},
   "source": [
    "### Enfoque de tiempo optimizado\n",
    "\n",
    "Para minimizar el tiempo de ejecución, esta versión de la función implementa las siguientes estrategias:\n",
    "\n",
    "- Procesa el archivo línea por línea (modo streaming).\n",
    "- Utiliza una expresión regular para **filtrar** solo las líneas que contienen al menos una mención válida en el campo `mentionedUsers`, reduciendo significativamente el número de parseos JSON necesarios.\n",
    "- Solo parsea los tweets que cumplen con ese patrón, lo que mejora el rendimiento en archivos con muchos tweets sin menciones.\n",
    "- Utiliza la estructura `Counter` para contar eficientemente la cantidad de veces que cada usuario es mencionado.\n",
    "- Ignora los tweets mal formateados o sin usuarios mencionados, evitando validaciones adicionales o estructuras innecesarias.\n",
    "- Devuelve los 10 usuarios más mencionados ordenados por frecuencia, utilizando el método `most_common()` de `Counter`.\n"
   ]
  },
  {
   "cell_type": "markdown",
   "metadata": {},
   "source": [
    "#### Prueba de memoria"
   ]
  },
  {
   "cell_type": "code",
   "execution_count": 22,
   "metadata": {},
   "outputs": [
    {
     "name": "stdout",
     "output_type": "stream",
     "text": [
      "peak memory: 427.77 MiB, increment: 0.00 MiB\n"
     ]
    }
   ],
   "source": [
    "%memit q3_time(FILE_PATH)"
   ]
  },
  {
   "cell_type": "markdown",
   "metadata": {},
   "source": [
    "#### Prueba de tiempo"
   ]
  },
  {
   "cell_type": "code",
   "execution_count": 23,
   "metadata": {},
   "outputs": [
    {
     "name": "stdout",
     "output_type": "stream",
     "text": [
      "2.25 s ± 243 ms per loop (mean ± std. dev. of 3 runs, 10 loops each)\n"
     ]
    }
   ],
   "source": [
    "%timeit -n 10 -r 3 q3_time(FILE_PATH)"
   ]
  },
  {
   "cell_type": "markdown",
   "metadata": {},
   "source": [
    "#### Análisis de tiempo"
   ]
  },
  {
   "cell_type": "code",
   "execution_count": 47,
   "metadata": {
    "scrolled": true
   },
   "outputs": [
    {
     "data": {
      "application/vnd.jupyter.widget-view+json": {
       "model_id": "f0b5b0459ea6447980d9942433b6c485",
       "version_major": 2,
       "version_minor": 0
      },
      "text/plain": [
       "Accordion(children=(Output(),), titles=('',))"
      ]
     },
     "metadata": {},
     "output_type": "display_data"
    },
    {
     "data": {
      "text/plain": [
       "Timer unit: 1e-07 s\n",
       "\n",
       "Total time: 2.53946 s\n",
       "File: C:\\Users\\and88\\OneDrive\\Documents\\Python\\latam_challenge_DE\\src\\q3_time.py\n",
       "Function: q3_time at line 8\n",
       "\n",
       "Line #      Hits         Time  Per Hit   % Time  Line Contents\n",
       "==============================================================\n",
       "     8                                           def q3_time(file_path: str) -> List[Tuple[str, int]]:\n",
       "     9                                               \"\"\"\n",
       "    10                                               Procesa un archivo de tweets en formato JSON línea por línea, devolviendo los 10 usuarios\n",
       "    11                                               más mencionados (en el campo 'mentionedUsers') a lo largo de todo el historial.\n",
       "    12                                           \n",
       "    13                                               Esta versión está optimizada para minimizar el tiempo de ejecución. En lugar de parsear\n",
       "    14                                               todas las líneas del archivo, utiliza una expresión regular para detectar solo aquellas\n",
       "    15                                               líneas que contienen al menos un usuario mencionado, reduciendo significativamente la\n",
       "    16                                               cantidad de operaciones costosas de json.loads().\n",
       "    17                                           \n",
       "    18                                               Args:\n",
       "    19                                                   file_path (str): Ruta al archivo de tweets en formato JSON (una línea por tweet).\n",
       "    20                                           \n",
       "    21                                               Returns:\n",
       "    22                                                   List[Tuple[str, int]]:\n",
       "    23                                                       Una lista ordenada (descendente) con los 10 usuarios más mencionados.\n",
       "    24                                                       Cada elemento es una tupla que contiene:\n",
       "    25                                                           - str: El username del usuario mencionado.\n",
       "    26                                                           - int: Cantidad total de veces que fue mencionado.\n",
       "    27                                           \n",
       "    28                                                       Ejemplo:\n",
       "    29                                                       [\n",
       "    30                                                           (\"LATAM321\", 387),\n",
       "    31                                                           (\"LATAM_CHI\", 129),\n",
       "    32                                                           ...\n",
       "    33                                                       ]\n",
       "    34                                           \n",
       "    35                                               Notas y supuestos:\n",
       "    36                                                   - Se asume que cada línea del archivo representa un JSON válido con codificación UTF-8.\n",
       "    37                                                   - Solo se procesan las líneas que contienen una lista con al menos un objeto dentro del\n",
       "    38                                                     campo 'mentionedUsers'.\n",
       "    39                                                   - Las líneas sin menciones o con arrays vacíos se descartan automáticamente antes de parsear\n",
       "    40                                                     el JSON.\n",
       "    41                                                   - Tweets mal formateados son ignorados.\n",
       "    42                                               \"\"\"\n",
       "    43                                           \n",
       "    44         1         70.0     70.0      0.0      menciones = Counter()\n",
       "    45         1         72.0     72.0      0.0      patron = re.compile(r'\"mentionedUsers\":\\s*\\[\\s*{')\n",
       "    46                                           \n",
       "    47         2       2515.0   1257.5      0.0      with open(file_path, \"r\", encoding=\"utf-8\") as file:\n",
       "    48    117408    8011128.0     68.2     31.5          for linea in file:\n",
       "    49    117407    2243839.0     19.1      8.8              if not patron.search(linea):\n",
       "    50     73389     134202.0      1.8      0.5                  continue  # descarta líneas sin usuarios mencionados\n",
       "    51                                           \n",
       "    52     44018      87120.0      2.0      0.3              try:\n",
       "    53     44018   12885148.0    292.7     50.7                  tweet = cargar_json(linea)\n",
       "    54    147421     575462.0      3.9      2.3                  for usuarios_mencionados in tweet.get(\"mentionedUsers\") or []:\n",
       "    55    103403     346685.0      3.4      1.4                      usuario = usuarios_mencionados.get(\"username\")\n",
       "    56    103403     212242.0      2.1      0.8                      if usuario:\n",
       "    57    103403     818724.0      7.9      3.2                          menciones[usuario] += 1\n",
       "    58                                           \n",
       "    59                                                       except JSONDecodeError:\n",
       "    60                                                           continue\n",
       "    61                                           \n",
       "    62         1      77385.0  77385.0      0.3      return menciones.most_common(10)"
      ]
     },
     "metadata": {},
     "output_type": "display_data"
    }
   ],
   "source": [
    "%lprun -f q3_time q3_time(FILE_PATH)"
   ]
  },
  {
   "cell_type": "markdown",
   "metadata": {},
   "source": [
    "#### Resultado"
   ]
  },
  {
   "cell_type": "code",
   "execution_count": 24,
   "metadata": {},
   "outputs": [
    {
     "data": {
      "text/html": [
       "<div>\n",
       "<style scoped>\n",
       "    .dataframe tbody tr th:only-of-type {\n",
       "        vertical-align: middle;\n",
       "    }\n",
       "\n",
       "    .dataframe tbody tr th {\n",
       "        vertical-align: top;\n",
       "    }\n",
       "\n",
       "    .dataframe thead th {\n",
       "        text-align: right;\n",
       "    }\n",
       "</style>\n",
       "<table border=\"1\" class=\"dataframe\">\n",
       "  <thead>\n",
       "    <tr style=\"text-align: right;\">\n",
       "      <th></th>\n",
       "      <th>Usuario</th>\n",
       "      <th>Menciones</th>\n",
       "    </tr>\n",
       "  </thead>\n",
       "  <tbody>\n",
       "    <tr>\n",
       "      <th>0</th>\n",
       "      <td>narendramodi</td>\n",
       "      <td>2265</td>\n",
       "    </tr>\n",
       "    <tr>\n",
       "      <th>1</th>\n",
       "      <td>Kisanektamorcha</td>\n",
       "      <td>1840</td>\n",
       "    </tr>\n",
       "    <tr>\n",
       "      <th>2</th>\n",
       "      <td>RakeshTikaitBKU</td>\n",
       "      <td>1644</td>\n",
       "    </tr>\n",
       "    <tr>\n",
       "      <th>3</th>\n",
       "      <td>PMOIndia</td>\n",
       "      <td>1427</td>\n",
       "    </tr>\n",
       "    <tr>\n",
       "      <th>4</th>\n",
       "      <td>RahulGandhi</td>\n",
       "      <td>1146</td>\n",
       "    </tr>\n",
       "    <tr>\n",
       "      <th>5</th>\n",
       "      <td>GretaThunberg</td>\n",
       "      <td>1048</td>\n",
       "    </tr>\n",
       "    <tr>\n",
       "      <th>6</th>\n",
       "      <td>RaviSinghKA</td>\n",
       "      <td>1019</td>\n",
       "    </tr>\n",
       "    <tr>\n",
       "      <th>7</th>\n",
       "      <td>rihanna</td>\n",
       "      <td>986</td>\n",
       "    </tr>\n",
       "    <tr>\n",
       "      <th>8</th>\n",
       "      <td>UNHumanRights</td>\n",
       "      <td>962</td>\n",
       "    </tr>\n",
       "    <tr>\n",
       "      <th>9</th>\n",
       "      <td>meenaharris</td>\n",
       "      <td>926</td>\n",
       "    </tr>\n",
       "  </tbody>\n",
       "</table>\n",
       "</div>"
      ],
      "text/plain": [
       "           Usuario  Menciones\n",
       "0     narendramodi       2265\n",
       "1  Kisanektamorcha       1840\n",
       "2  RakeshTikaitBKU       1644\n",
       "3         PMOIndia       1427\n",
       "4      RahulGandhi       1146\n",
       "5    GretaThunberg       1048\n",
       "6      RaviSinghKA       1019\n",
       "7          rihanna        986\n",
       "8    UNHumanRights        962\n",
       "9      meenaharris        926"
      ]
     },
     "execution_count": 24,
     "metadata": {},
     "output_type": "execute_result"
    }
   ],
   "source": [
    "usuarios_mas_influyentes = q3_time(FILE_PATH)\n",
    "visualizador(usuarios_mas_influyentes, columns=[\"Usuario\", \"Menciones\"])"
   ]
  }
 ],
 "metadata": {
  "kernelspec": {
   "display_name": "Python 3 (ipykernel)",
   "language": "python",
   "name": "python3"
  },
  "language_info": {
   "codemirror_mode": {
    "name": "ipython",
    "version": 3
   },
   "file_extension": ".py",
   "mimetype": "text/x-python",
   "name": "python",
   "nbconvert_exporter": "python",
   "pygments_lexer": "ipython3",
   "version": "3.10.16"
  }
 },
 "nbformat": 4,
 "nbformat_minor": 4
}
